{
  "nbformat": 4,
  "nbformat_minor": 0,
  "metadata": {
    "colab": {
      "name": "PA1_RL.ipynb",
      "provenance": [],
      "collapsed_sections": []
    },
    "kernelspec": {
      "name": "python3",
      "display_name": "Python 3"
    },
    "language_info": {
      "name": "python"
    }
  },
  "cells": [
    {
      "cell_type": "code",
      "execution_count": null,
      "metadata": {
        "id": "SpXfJ6XXLtTe"
      },
      "outputs": [],
      "source": [
        "# Authors: \n",
        "## AKASH SAINI: CS21M003\n",
        "## RETURAJ BURNWAL: CS21D406\n",
        "\n",
        "\n",
        "from math import floor\n",
        "import numpy as np\n",
        "\n",
        "def row_col_to_seq(row_col, num_cols):  #Converts state number to row_column format\n",
        "    return row_col[:,0] * num_cols + row_col[:,1]\n",
        "\n",
        "def seq_to_col_row(seq, num_cols): #Converts row_column format to state number\n",
        "    r = floor(seq / num_cols)\n",
        "    c = seq - r * num_cols\n",
        "    return np.array([[r, c]])\n",
        "\n",
        "class GridWorld :\n",
        "    \"\"\"\n",
        "    Creates a gridworld object to pass to an RL algorithm.\n",
        "    Parameters\n",
        "    ----------\n",
        "    num_rows : int\n",
        "        The number of rows in the gridworld.\n",
        "    num_cols : int\n",
        "        The number of cols in the gridworld.\n",
        "    start_state : numpy array of shape (1, 2), np.array([[row, col]])\n",
        "        The start state of the gridworld (can only be one start state)\n",
        "    goal_states : numpy arrany of shape (n, 2)\n",
        "        The goal states for the gridworld where n is the number of goal\n",
        "        states.\n",
        "    \"\"\"\n",
        "    def __init__(self, num_rows, num_cols, start_state, goal_states, wind = False):\n",
        "        self.num_rows = num_rows\n",
        "        self.num_cols = num_cols\n",
        "        self.start_state = start_state\n",
        "        self.goal_states = goal_states\n",
        "        self.obs_states = None\n",
        "        self.bad_states = None\n",
        "        self.num_bad_states = 0\n",
        "        self.p_good_trans = None\n",
        "        self.bias = None\n",
        "        self.r_step = None\n",
        "        self.r_goal = None\n",
        "        self.r_dead = None\n",
        "        self.gamma = 1 # default is no discounting\n",
        "        self.wind = wind\n",
        "\n",
        "    def add_obstructions(self, obstructed_states=None, bad_states=None, restart_states=None):\n",
        "\n",
        "        self.obs_states = obstructed_states\n",
        "        self.bad_states = bad_states\n",
        "        if bad_states is not None:\n",
        "            self.num_bad_states = bad_states.shape[0]\n",
        "        else:\n",
        "            self.num_bad_states = 0\n",
        "        self.restart_states = restart_states\n",
        "        if restart_states is not None:\n",
        "            self.num_restart_states = restart_states.shape[0]\n",
        "        else:\n",
        "            self.num_restart_states = 0\n",
        "\n",
        "    def add_transition_probability(self, p_good_transition, bias):\n",
        "\n",
        "        self.p_good_trans = p_good_transition\n",
        "        self.bias = bias\n",
        "\n",
        "    def add_rewards(self, step_reward, goal_reward, bad_state_reward=None, restart_state_reward = None):\n",
        "\n",
        "        self.r_step = step_reward\n",
        "        self.r_goal = goal_reward\n",
        "        self.r_bad = bad_state_reward\n",
        "        self.r_restart = restart_state_reward\n",
        "\n",
        "\n",
        "    def create_gridworld(self):\n",
        "\n",
        "        self.num_actions = 4\n",
        "        self.num_states = self.num_cols * self.num_rows# +1\n",
        "        self.start_state_seq = row_col_to_seq(self.start_state, self.num_cols)\n",
        "        self.goal_states_seq = row_col_to_seq(self.goal_states, self.num_cols)\n",
        "\n",
        "        # rewards structure\n",
        "        self.R = self.r_step * np.ones((self.num_states, 1))\n",
        "        #self.R[self.num_states-1] = 0\n",
        "        self.R[self.goal_states_seq] = self.r_goal\n",
        "        \n",
        "        for i in range(self.num_bad_states):\n",
        "            if self.r_bad is None:\n",
        "                raise Exception(\"Bad state specified but no reward is given\")\n",
        "            bad_state = row_col_to_seq(self.bad_states[i,:].reshape(1,-1), self.num_cols)\n",
        "            #print(\"bad states\", bad_state)\n",
        "            self.R[bad_state, :] = self.r_bad\n",
        "        for i in range(self.num_restart_states):\n",
        "            if self.r_restart is None:\n",
        "                raise Exception(\"Restart state specified but no reward is given\")\n",
        "            restart_state = row_col_to_seq(self.restart_states[i,:].reshape(1,-1), self.num_cols)\n",
        "            #print(\"restart_state\", restart_state)\n",
        "            self.R[restart_state, :] = self.r_restart\n",
        "\n",
        "        # probability model\n",
        "        if self.p_good_trans == None:\n",
        "            raise Exception(\"Must assign probability and bias terms via the add_transition_probability method.\")\n",
        "\n",
        "        self.P = np.zeros((self.num_states,self.num_states,self.num_actions))\n",
        "        for action in range(self.num_actions):\n",
        "            for state in range(self.num_states):\n",
        "\n",
        "\n",
        "                # check if the state is the goal state or an obstructed state - transition to end\n",
        "                row_col = seq_to_col_row(state, self.num_cols)\n",
        "                if self.obs_states is not None:\n",
        "                    end_states = np.vstack((self.obs_states, self.goal_states))\n",
        "                else:\n",
        "                    end_states = self.goal_states\n",
        "\n",
        "                if any(np.sum(np.abs(end_states-row_col), 1) == 0):\n",
        "                    self.P[state, state, action] = 1\n",
        "\n",
        "                # else consider stochastic effects of action\n",
        "                else:\n",
        "                    for dir in range(-1,2,1):\n",
        "                        \n",
        "                        direction = self._get_direction(action, dir)\n",
        "                        next_state = self._get_state(state, direction)\n",
        "                        if dir == 0:\n",
        "                            prob = self.p_good_trans\n",
        "                        elif dir == -1:\n",
        "                            prob = (1 - self.p_good_trans)*(self.bias)\n",
        "                        elif dir == 1:\n",
        "                            prob = (1 - self.p_good_trans)*(1-self.bias)\n",
        "\n",
        "                        self.P[state, next_state, action] += prob\n",
        "\n",
        "                # make restart states transition back to the start state with\n",
        "                # probability 1\n",
        "                if self.restart_states is not None:\n",
        "                    if any(np.sum(np.abs(self.restart_states-row_col),1)==0):\n",
        "                        next_state = row_col_to_seq(self.start_state, self.num_cols)\n",
        "                        self.P[state,:,:] = 0\n",
        "                        self.P[state,next_state,:] = 1\n",
        "        return self\n",
        "\n",
        "    def _get_direction(self, action, direction):\n",
        "\n",
        "        left = [2,3,1,0]\n",
        "        right = [3,2,0,1]\n",
        "        if direction == 0:\n",
        "            new_direction = action\n",
        "        elif direction == -1:\n",
        "            new_direction = left[action]\n",
        "        elif direction == 1:\n",
        "            new_direction = right[action]\n",
        "        else:\n",
        "            raise Exception(\"getDir received an unspecified case\")\n",
        "        return new_direction\n",
        "\n",
        "    def _get_state(self, state, direction):\n",
        "\n",
        "        row_change = [-1,1,0,0]\n",
        "        col_change = [0,0,-1,1]\n",
        "        row_col = seq_to_col_row(state, self.num_cols)\n",
        "        row_col[0,0] += row_change[direction]\n",
        "        row_col[0,1] += col_change[direction]\n",
        "\n",
        "        # check for invalid states\n",
        "        if self.obs_states is not None:\n",
        "            if (np.any(row_col < 0) or\n",
        "                np.any(row_col[:,0] > self.num_rows-1) or\n",
        "                np.any(row_col[:,1] > self.num_cols-1) or\n",
        "                np.any(np.sum(abs(self.obs_states - row_col), 1)==0)):\n",
        "                next_state = state\n",
        "            else:\n",
        "                next_state = row_col_to_seq(row_col, self.num_cols)[0]\n",
        "        else:\n",
        "            if (np.any(row_col < 0) or\n",
        "                np.any(row_col[:,0] > self.num_rows-1) or\n",
        "                np.any(row_col[:,1] > self.num_cols-1)):\n",
        "                next_state = state\n",
        "            else:\n",
        "                next_state = row_col_to_seq(row_col, self.num_cols)[0]\n",
        "\n",
        "        return next_state\n",
        "\n",
        "    def reset(self):\n",
        "      return int(self.start_state_seq)\n",
        "      \n",
        "    def step(self, state, action):\n",
        "        p, r = 0, np.random.random()\n",
        "        for next_state in range(self.num_states):\n",
        "            \n",
        "            p += self.P[state, next_state, action]\n",
        "            \n",
        "            if r <= p:\n",
        "                break\n",
        "\n",
        "        if(self.wind and np.random.random() < 0.4):\n",
        "\n",
        "          arr = self.P[next_state, :, 3]\n",
        "          next_next = np.where(arr == np.amax(arr))\n",
        "          next_next = next_next[0][0]\n",
        "          return next_next, self.R[next_next]\n",
        "        else:\n",
        "          return next_state, self.R[next_state]\n",
        "\n"
      ]
    },
    {
      "cell_type": "code",
      "source": [
        "# Please see get_environment() method\n",
        "\n",
        "# # specify world parameters\n",
        "# num_cols = 10\n",
        "# num_rows = 10\n",
        "# obstructions = np.array([[0,7],[1,1],[1,2],[1,3],[1,7],[2,1],[2,3],\n",
        "#                          [2,7],[3,1],[3,3],[3,5],[4,3],[4,5],[4,7],\n",
        "#                          [5,3],[5,7],[5,9],[6,3],[6,9],[7,1],[7,6],\n",
        "#                          [7,7],[7,8],[7,9],[8,1],[8,5],[8,6],[9,1]])\n",
        "# bad_states = np.array([[1,9],[4,2],[4,4],[7,5],[9,9]])\n",
        "# restart_states = np.array([[3,7],[8,2]])\n",
        "# start_state = np.array([[3,6]])\n",
        "# goal_states = np.array([[0,9],[2,2],[8,7]])\n",
        "\n",
        "# # create model\n",
        "# gw = GridWorld(num_rows=num_rows,\n",
        "#                num_cols=num_cols,\n",
        "#                start_state=start_state,\n",
        "#                goal_states=goal_states, wind = False)\n",
        "# gw.add_obstructions(obstructed_states=obstructions,\n",
        "#                     bad_states=bad_states,\n",
        "#                     restart_states=restart_states)\n",
        "# gw.add_rewards(step_reward=-1,\n",
        "#                goal_reward=10,\n",
        "#                bad_state_reward=-6,\n",
        "#                restart_state_reward=-100)\n",
        "# gw.add_transition_probability(p_good_transition=0.7,\n",
        "#                               bias=0.5)\n",
        "# env = gw.create_gridworld()"
      ],
      "metadata": {
        "id": "BqE09JUiL1B8"
      },
      "execution_count": null,
      "outputs": []
    },
    {
      "cell_type": "code",
      "source": [
        "# print(\"Number of actions\", env.num_actions) #0 -> UP, 1-> DOWN, 2 -> LEFT, 3-> RIGHT\n",
        "# print(\"Number of states\", env.num_states)\n",
        "# print(\"start state\", env.start_state_seq)\n",
        "# print(\"goal state(s)\", env.goal_states_seq)"
      ],
      "metadata": {
        "id": "0UdRce8oMZNb"
      },
      "execution_count": null,
      "outputs": []
    },
    {
      "cell_type": "markdown",
      "source": [
        "### Our Code"
      ],
      "metadata": {
        "id": "R9icZKR9w4L-"
      }
    },
    {
      "cell_type": "markdown",
      "source": [
        "##### Setup"
      ],
      "metadata": {
        "id": "_aK6voENDzq0"
      }
    },
    {
      "cell_type": "code",
      "source": [
        "# About WANDB: https://wandb.ai/site\n",
        "\n",
        "!pip install wandb"
      ],
      "metadata": {
        "id": "0CZCuwK8dxIj"
      },
      "execution_count": null,
      "outputs": []
    },
    {
      "cell_type": "code",
      "source": [
        "import wandb\n",
        "wandb.login()"
      ],
      "metadata": {
        "colab": {
          "base_uri": "https://localhost:8080/",
          "height": 71
        },
        "id": "_SNJM3qhd2f1",
        "outputId": "ca09f852-6e3a-403d-d8d5-648458a93267"
      },
      "execution_count": null,
      "outputs": [
        {
          "output_type": "display_data",
          "data": {
            "application/javascript": [
              "\n",
              "        window._wandbApiKey = new Promise((resolve, reject) => {\n",
              "            function loadScript(url) {\n",
              "            return new Promise(function(resolve, reject) {\n",
              "                let newScript = document.createElement(\"script\");\n",
              "                newScript.onerror = reject;\n",
              "                newScript.onload = resolve;\n",
              "                document.body.appendChild(newScript);\n",
              "                newScript.src = url;\n",
              "            });\n",
              "            }\n",
              "            loadScript(\"https://cdn.jsdelivr.net/npm/postmate/build/postmate.min.js\").then(() => {\n",
              "            const iframe = document.createElement('iframe')\n",
              "            iframe.style.cssText = \"width:0;height:0;border:none\"\n",
              "            document.body.appendChild(iframe)\n",
              "            const handshake = new Postmate({\n",
              "                container: iframe,\n",
              "                url: 'https://wandb.ai/authorize'\n",
              "            });\n",
              "            const timeout = setTimeout(() => reject(\"Couldn't auto authenticate\"), 5000)\n",
              "            handshake.then(function(child) {\n",
              "                child.on('authorize', data => {\n",
              "                    clearTimeout(timeout)\n",
              "                    resolve(data)\n",
              "                });\n",
              "            });\n",
              "            })\n",
              "        });\n",
              "    "
            ],
            "text/plain": [
              "<IPython.core.display.Javascript object>"
            ]
          },
          "metadata": {}
        },
        {
          "output_type": "stream",
          "name": "stderr",
          "text": [
            "\u001b[34m\u001b[1mwandb\u001b[0m: Appending key for api.wandb.ai to your netrc file: /root/.netrc\n"
          ]
        },
        {
          "output_type": "execute_result",
          "data": {
            "text/plain": [
              "True"
            ]
          },
          "metadata": {},
          "execution_count": 5
        }
      ]
    },
    {
      "cell_type": "code",
      "source": [
        "import matplotlib.pyplot as plt\n",
        "from IPython.display import clear_output\n",
        "%matplotlib inline"
      ],
      "metadata": {
        "id": "it7t-zyWPjcK"
      },
      "execution_count": null,
      "outputs": []
    },
    {
      "cell_type": "code",
      "source": [
        "np.random.seed(3)"
      ],
      "metadata": {
        "id": "RY5NiOXcIfYs"
      },
      "execution_count": null,
      "outputs": []
    },
    {
      "cell_type": "markdown",
      "source": [
        "##### Model Code"
      ],
      "metadata": {
        "id": "GQl8YJeeFtAj"
      }
    },
    {
      "cell_type": "code",
      "source": [
        "def get_environment(start_state, wind, p_good_transition):\n",
        "  \"\"\"\n",
        "  start_state: eg: np.array([[3, 6]])\n",
        "  wind: boolean\n",
        "  p_good_transition: float between (0, 1)\n",
        "  \"\"\"\n",
        "  # fixed world parameters\n",
        "  num_cols = 10\n",
        "  num_rows = 10\n",
        "  obstructions = np.array([[0,7],[1,1],[1,2],[1,3],[1,7],[2,1],[2,3],\n",
        "                           [2,7],[3,1],[3,3],[3,5],[4,3],[4,5],[4,7],\n",
        "                           [5,3],[5,7],[5,9],[6,3],[6,9],[7,1],[7,6],\n",
        "                           [7,7],[7,8],[7,9],[8,1],[8,5],[8,6],[9,1]])\n",
        "  bad_states = np.array([[1,9],[4,2],[4,4],[7,5],[9,9]])\n",
        "  restart_states = np.array([[3,7],[8,2]])\n",
        "  goal_states = np.array([[0,9],[2,2],[8,7]])\n",
        "\n",
        "  step_reward = -1\n",
        "  goal_reward = 10,\n",
        "  bad_state_reward = -6\n",
        "  restart_state_reward = -100\n",
        "\n",
        "  bias=0.5\n",
        "\n",
        "  # create grid world\n",
        "  gw = GridWorld(num_rows=num_rows,\n",
        "                 num_cols=num_cols,\n",
        "                 start_state=start_state,\n",
        "                 goal_states=goal_states, wind=wind)\n",
        "  gw.add_obstructions(obstructed_states=obstructions,\n",
        "                      bad_states=bad_states,\n",
        "                      restart_states=restart_states)\n",
        "  gw.add_rewards(step_reward=step_reward,\n",
        "                 goal_reward=goal_reward,\n",
        "                 bad_state_reward=bad_state_reward,\n",
        "                 restart_state_reward=restart_state_reward)\n",
        "  gw.add_transition_probability(p_good_transition=p_good_transition,\n",
        "                                bias=bias)\n",
        "  return gw.create_gridworld()"
      ],
      "metadata": {
        "id": "XI2lsPwUhrPx"
      },
      "execution_count": null,
      "outputs": []
    },
    {
      "cell_type": "code",
      "source": [
        "# Code for Exploration Strategy\n",
        "\n",
        "class ExplorationStrategy(object):\n",
        "  def get_action(self, Q):\n",
        "    raise NotImplementedError\n",
        "\n",
        "\n",
        "class EpsilonGreedy(ExplorationStrategy):\n",
        "  def __init__(self, ep):\n",
        "    self.ep = ep\n",
        "\n",
        "  def get_action(self, Q, state):\n",
        "    \"\"\"\n",
        "    Q: num_state(|S|) x num_actions(|A|)\n",
        "    state: state_id\n",
        "    \"\"\"\n",
        "    num_actions = Q.shape[1]\n",
        "    if np.random.rand() < self.ep:\n",
        "      action = np.random.randint(num_actions)\n",
        "    else:\n",
        "      action = np.argmax(Q[state, :])\n",
        "    return action\n",
        "\n",
        "\n",
        "class Softmax(ExplorationStrategy):\n",
        "  def __init__(self, beta):\n",
        "    self.beta = beta\n",
        "\n",
        "  def get_action(self, Q, state):\n",
        "    \"\"\"\n",
        "    Q: num_state(|S|) x num_actions(|A|)\n",
        "    state: state_id\n",
        "    \"\"\"\n",
        "    q = Q[state, :] / self.beta\n",
        "    prob = np.exp(q - np.max(q))\n",
        "    prob /= np.sum(prob)\n",
        "    num_actions = Q.shape[1]\n",
        "    return np.random.choice(num_actions, p=prob)"
      ],
      "metadata": {
        "id": "-vrXd4cZVqkm"
      },
      "execution_count": null,
      "outputs": []
    },
    {
      "cell_type": "code",
      "source": [
        "class LearningAlgorithm(object):\n",
        "  def __init__(self, env, explore_stategy, lr, gamma, horizon):\n",
        "    self.env = env\n",
        "    self.explore_stategy = explore_stategy\n",
        "    self.lr = lr\n",
        "    self.gamma = gamma\n",
        "    self.horizon = horizon\n",
        "\n",
        "  def is_terminal(self, state):\n",
        "    goal_states = self.env.goal_states_seq\n",
        "    return state in goal_states\n",
        "\n",
        "  def train(self, num_episodes):\n",
        "    \"\"\"\n",
        "    returns numpy_array of total_reward and num_steps taken at each episode\n",
        "            and numpy array of Q(|S| x |A|) and state_visit_cnt(|S|)\n",
        "    \"\"\"\n",
        "    raise NotImplementedError\n",
        "\n",
        "  def avg_performance(self, num_epochs, num_episodes):\n",
        "    avg_Q = np.zeros((self.env.num_states, self.env.num_actions))\n",
        "    avg_state_visit_cnt = np.zeros(self.env.num_states)\n",
        "    avg_rwd, avg_steps = np.zeros(num_episodes), np.zeros(num_episodes)\n",
        "    for epoch in range(num_epochs):\n",
        "      rwd, steps, Q, state_visit_cnt = self.train(num_episodes)\n",
        "      avg_rwd += (rwd - avg_rwd) / (epoch + 1)\n",
        "      avg_steps += (steps - avg_steps) / (epoch + 1)\n",
        "      avg_Q += (Q - avg_Q) / (epoch + 1)\n",
        "      avg_state_visit_cnt += (state_visit_cnt - avg_state_visit_cnt) / (epoch+ 1 )\n",
        "    return avg_rwd, avg_steps, avg_Q, avg_state_visit_cnt\n",
        "\n",
        "\n",
        "class Sarsa(LearningAlgorithm):\n",
        "  def __init__(self, env, explore_strategy, lr, gamma, horizon=100):\n",
        "    super().__init__(env, explore_strategy, lr, gamma, horizon)\n",
        "\n",
        "  def train(self, num_episodes):\n",
        "    env = self.env\n",
        "    explore_strategy = self.explore_stategy\n",
        "    rwd_per_episode, steps_per_episode = np.zeros(num_episodes), np.zeros(num_episodes)\n",
        "    Q = np.zeros((env.num_states, env.num_actions))\n",
        "    state_visit_cnt = np.zeros(env.num_states)\n",
        "    for episode in range(num_episodes):\n",
        "      total_rwd, steps = 0, 0\n",
        "      state = env.reset()\n",
        "      action = explore_strategy.get_action(Q, state)\n",
        "      state_visit_cnt[state] += 1\n",
        "      while (not self.is_terminal(state)) and (steps < self.horizon):\n",
        "        next_state, rwd = env.step(state, action)\n",
        "        next_action = explore_strategy.get_action(Q, next_state)\n",
        "        Q[state, action] += self.lr * (rwd + self.gamma*Q[next_state, next_action] - Q[state, action])\n",
        "        state, action = next_state, next_action\n",
        "        steps += 1\n",
        "        total_rwd += rwd\n",
        "        state_visit_cnt[state] += 1\n",
        "      rwd_per_episode[episode] = total_rwd\n",
        "      steps_per_episode[episode] = steps\n",
        "    state_visit_cnt /= num_episodes\n",
        "    return rwd_per_episode, steps_per_episode, Q, state_visit_cnt\n",
        "\n",
        "\n",
        "class QLearning(LearningAlgorithm):\n",
        "  def __init__(self, env, explore_strategy, lr, gamma, horizon=100):\n",
        "    super().__init__(env, explore_strategy, lr, gamma, horizon)\n",
        "\n",
        "  def train(self, num_episodes):\n",
        "    env = self.env\n",
        "    explore_strategy = self.explore_stategy\n",
        "    rwd_per_episode, steps_per_episode = np.zeros(num_episodes), np.zeros(num_episodes)\n",
        "    Q = np.zeros((env.num_states, env.num_actions))\n",
        "    state_visit_cnt = np.zeros(env.num_states)\n",
        "    for episode in range(num_episodes):\n",
        "      total_rwd, steps = 0, 0\n",
        "      state = env.reset()\n",
        "      action = explore_strategy.get_action(Q, state)\n",
        "      state_visit_cnt[state] += 1\n",
        "      while (not self.is_terminal(state)) and (steps < self.horizon):\n",
        "        next_state, rwd = env.step(state, action)\n",
        "        next_action = explore_strategy.get_action(Q, next_state)\n",
        "        Q[state, action] += self.lr * (rwd + self.gamma*Q[next_state, next_action] - Q[state, action])\n",
        "        state, action = next_state, next_action\n",
        "        steps += 1\n",
        "        total_rwd += rwd\n",
        "        state_visit_cnt[state] += 1\n",
        "      rwd_per_episode[episode] = total_rwd\n",
        "      steps_per_episode[episode] = steps\n",
        "    state_visit_cnt /= num_episodes\n",
        "    return rwd_per_episode, steps_per_episode, Q, state_visit_cnt"
      ],
      "metadata": {
        "id": "GLRLah2lmU6y"
      },
      "execution_count": null,
      "outputs": []
    },
    {
      "cell_type": "code",
      "source": [
        "# Global Variables\n",
        "\n",
        "LEARNING_ALGO_MAP = {\n",
        "    \"sarsa\": Sarsa,\n",
        "    \"qlearning\": QLearning\n",
        "}\n",
        "\n",
        "\n",
        "EXPLORATION_STATEGY_MAP = {\n",
        "    \"ep_greedy\": EpsilonGreedy,\n",
        "    \"softmax\": Softmax\n",
        "}\n",
        "\n",
        "\n",
        "NUM_EPOCHS = 20\n",
        "NUM_EPISODES = 1000\n",
        "\n",
        "\n",
        "WANDB_PROJECT = \"RL_ASSIGNMENT_1\"\n",
        "WANDB_ENTITY = \"cs21m003_cs21d406\"\n",
        "WANDB_RUNS = 20"
      ],
      "metadata": {
        "id": "T4f-Ry6dIS1L"
      },
      "execution_count": null,
      "outputs": []
    },
    {
      "cell_type": "code",
      "source": [
        "# wandb code\n",
        "def run_wandb():\n",
        "  wandb.init()\n",
        "  config = wandb.config\n",
        "  start_state = np.array([[int(x.strip()) for x in config.start_state.split(\"_\")]])\n",
        "  env = get_environment(start_state, config.wind, config.p_good)\n",
        "  explore_stategy = EXPLORATION_STATEGY_MAP[config.explore_strategy](config.strtg_value)\n",
        "  learning_algo = LEARNING_ALGO_MAP[config.learning_algo](env, explore_stategy, config.lr, config.gamma)\n",
        "  avg_rwd, avg_steps, _, _ = learning_algo.avg_performance(NUM_EPOCHS, NUM_EPISODES)\n",
        "\n",
        "  wandb.run.name = \"st_{}_wnd_{}_prob_{}_{}_{}_algo_{}_lr_{}_gamma_{}\".format(config.start_state,\n",
        "                                                                           config.wind,\n",
        "                                                                           config.p_good,\n",
        "                                                                           config.explore_strategy,\n",
        "                                                                           config.strtg_value,\n",
        "                                                                           config.learning_algo,\n",
        "                                                                           config.lr,\n",
        "                                                                           config.gamma)\n",
        "  for rwd, steps in zip(avg_rwd, avg_steps):\n",
        "    wandb.log({\"AverageReward\": rwd, \"AverageSteps\": steps})\n",
        "\n",
        "\n",
        "def do_hyperparameter_search(sweep_config, runs):\n",
        "  sweep_id = wandb.sweep(sweep_config, project=WANDB_PROJECT, entity=WANDB_ENTITY)\n",
        "  wandb.agent(sweep_id, function=run_wandb, count=runs)\n",
        "\n",
        "\n",
        "def run_different_configurations(runs):\n",
        "  learning_algos = [\"sarsa\", \"qlearning\"]\n",
        "  explore_stategies = [\"ep_greedy\", \"softmax\"]\n",
        "  start_states = [\"0_4\", \"3_6\"]\n",
        "  winds = [False, True]\n",
        "  p_good_values = [0.7, 1.0]\n",
        "\n",
        "  config = {\n",
        "      \"lr\": {\"values\": [0.001, 0.01, 0.1, 1.0]},\n",
        "      \"gamma\": {\"values\": [0.7, 0.8, 0.9, 1.0]},\n",
        "  }\n",
        "  for algo in learning_algos:\n",
        "    config[\"learning_algo\"] = {\"values\": [algo]}\n",
        "    for strtg in explore_stategies:\n",
        "      config[\"explore_strategy\"] = {\"values\": [strtg]}\n",
        "      if strtg == \"ep_greedy\":\n",
        "        config[\"strtg_value\"] = {\"values\": [0.001, 0.01, 0.1]}\n",
        "      else: # softmax\n",
        "        config[\"strtg_value\"] = {\"values\": [0.01, 0.1, 1, 2]}\n",
        "      for start in start_states:\n",
        "        config[\"start_state\"] = {\"values\": [start]}\n",
        "        for wind in winds:\n",
        "          config[\"wind\"] = {\"values\": [wind]}\n",
        "          for p in p_good_values:\n",
        "            config[\"p_good\"] = {\"values\": [p]}\n",
        "            sweep_config = {\n",
        "                \"name\": \"Bayes sweep\",\n",
        "                \"method\": \"bayes\",\n",
        "                \"metric\":{\n",
        "                  \"name\": \"AverageReward\",\n",
        "                  \"goal\": \"maximize\"\n",
        "                },\n",
        "                \"parameters\": config\n",
        "            }\n",
        "            do_hyperparameter_search(sweep_config, runs)"
      ],
      "metadata": {
        "id": "EVoejz_tdaRS"
      },
      "execution_count": null,
      "outputs": []
    },
    {
      "cell_type": "code",
      "source": [
        "# [Note] Run this block if you want to do search best hyper-parameters\n",
        "# [WANDB LINK] https://wandb.ai/cs21m003_cs21d406/RL_ASSIGNMENT_1?workspace=user-returaj\n",
        "# [WANDB] We can use filters to select different configurations and see different hyper-parameters performace in wandb.\n",
        "\n",
        "run_different_configurations(runs=WANDB_RUNS)"
      ],
      "metadata": {
        "id": "I9eptc951inZ"
      },
      "execution_count": null,
      "outputs": []
    },
    {
      "cell_type": "code",
      "source": [
        "def rewards_steps_plots(avg_rwd, avg_steps, ep, message):\n",
        "    fig = plt.figure()\n",
        "    plt.plot(ep,avg_rwd,color='blue')\n",
        "    plt.xlabel('episodes')\n",
        "    plt.ylabel('avg_rewards')\n",
        "    plt.title(f\"{message}_rewards\")\n",
        "    plt.show()\n",
        "    fig = plt.figure()\n",
        "    plt.plot(ep,avg_steps,color='magenta')\n",
        "    plt.xlabel('episodes')\n",
        "    plt.ylabel('avg_steps')\n",
        "    plt.title(f\"{message}_steps\")\n",
        "    plt.show()\n",
        "\n",
        "\n",
        "def plot_Q(Q, message = \"Q plot\"):\n",
        "    UP = 0\n",
        "    DOWN = 1\n",
        "    LEFT = 2\n",
        "    RIGHT = 3\n",
        "    D = np.zeros((10, 10))\n",
        "    for i in range(10):\n",
        "        D[i, 10-i-1] = 1\n",
        "    Q = Q.reshape(10, 10, 4)\n",
        "    for i in range(4):\n",
        "        Q[:,:, i] = np.dot(D, Q[:,:, i])\n",
        "    plt.figure(figsize=(8,8))\n",
        "    plt.title(message)\n",
        "    plt.pcolor(Q.max(-1), edgecolors='k', linewidths=2)\n",
        "    plt.colorbar()\n",
        "    def x_direct(a):\n",
        "        if a in [UP, DOWN]:\n",
        "            return 0\n",
        "        return 1 if a == RIGHT else -1\n",
        "    def y_direct(a):\n",
        "        if a in [RIGHT, LEFT]:\n",
        "            return 0\n",
        "        return 1 if a == UP else -1\n",
        "    policy = Q.argmax(-1)\n",
        "    policyx = np.vectorize(x_direct)(policy)\n",
        "    policyy = np.vectorize(y_direct)(policy)\n",
        "    idx = np.indices(policy.shape)\n",
        "    plt.quiver(idx[1].ravel()+0.5, idx[0].ravel()+0.5, policyx.ravel(), policyy.ravel(), pivot=\"middle\", color='red')\n",
        "    plt.xticks([])\n",
        "    plt.yticks([])\n",
        "    plt.show()\n",
        "\n",
        "\n",
        "def plot_step(avg_state_visit_cnt, message):\n",
        "    D = np.zeros((10, 10))\n",
        "    for i in range(10):\n",
        "        D[i, 10-i-1] = 1\n",
        "    S = np.dot(D, avg_state_visit_cnt.reshape(10, 10))\n",
        "    # S = avg_state_visit_cnt.reshape(10, 10)\n",
        "    plt.figure(figsize=(8,6))\n",
        "    plt.title(message)\n",
        "    plt.pcolor(S, cmap=\"viridis\", edgecolors='k', linewidths=2)\n",
        "    plt.colorbar()\n",
        "    plt.xticks([])\n",
        "    plt.yticks([])\n",
        "    plt.show()"
      ],
      "metadata": {
        "id": "31vm3GnbYhc1"
      },
      "execution_count": null,
      "outputs": []
    },
    {
      "cell_type": "markdown",
      "source": [
        "###### Plot Configuration"
      ],
      "metadata": {
        "id": "KhiNFQY9rfkq"
      }
    },
    {
      "cell_type": "code",
      "source": [
        "# Plot Configuration: \n",
        "\n",
        "np.random.seed(3)\n",
        "\n",
        "algo = \"sarsa\"        # either \"sarsa\" or \"qlearning\"\n",
        "strtg = \"ep_greedy\"   # either \"ep_greedy\" or \"softmax\"\n",
        "start = \"0_4\"         # either \"0_4\" or \"3_6\"\n",
        "wind = True           # either True or False\n",
        "p = 1.0               # either 1.0 or 0.7\n",
        "\n",
        "strtg_param = 0.01    # strtg_param can be \"epsilon\" value for ep_greedy or \"beta\" value for softmax\n",
        "gamma = 0.9\n",
        "lr = 1.0\n",
        "\n",
        "start_state = np.array([[int(x) for x in start.split(\"_\")]])\n",
        "\n",
        "env = get_environment(start_state, wind, p)\n",
        "ex_strtg = EXPLORATION_STATEGY_MAP[strtg](strtg_param)\n",
        "algo_obj = LEARNING_ALGO_MAP[algo](env, ex_strtg, lr, gamma)\n",
        "avg_rwd, avg_steps, avg_Q, avg_state_visit_cnt = algo_obj.avg_performance(num_epochs=NUM_EPOCHS, num_episodes=NUM_EPISODES)\n",
        "episodes = np.arange(NUM_EPISODES)\n",
        "\n",
        "message = f\"{algo}_start:{start}_strtg:{strtg}_wind:{wind}_p:{p}\"\n",
        "\n",
        "print(f\"rwd:{avg_rwd[-1]} steps:{avg_steps[-1]}\\n\")\n",
        "\n",
        "rewards_steps_plots(avg_rwd, avg_steps, episodes, message)\n",
        "plot_step(avg_state_visit_cnt, message)\n",
        "plot_Q(avg_Q, message)"
      ],
      "metadata": {
        "id": "DEUOJ5L0kHF-",
        "colab": {
          "base_uri": "https://localhost:8080/",
          "height": 1000
        },
        "outputId": "077e43ad-d3f5-4bf9-edac-b94acc4e094f"
      },
      "execution_count": null,
      "outputs": [
        {
          "output_type": "stream",
          "name": "stdout",
          "text": [
            "rwd:-46.8 steps:51.9\n",
            "\n"
          ]
        },
        {
          "output_type": "display_data",
          "data": {
            "image/png": "[encoded data removed]",
            "text/plain": [
              "<Figure size 432x288 with 1 Axes>"
            ]
          },
          "metadata": {
            "needs_background": "light"
          }
        },
        {
          "output_type": "display_data",
          "data": {
            "image/png": "[encoded data removed]",
            "text/plain": [
              "<Figure size 432x288 with 1 Axes>"
            ]
          },
          "metadata": {
            "needs_background": "light"
          }
        },
        {
          "output_type": "display_data",
          "data": {
            "image/png": "[encoded data removed]",
            "text/plain": [
              "<Figure size 576x432 with 2 Axes>"
            ]
          },
          "metadata": {
            "needs_background": "light"
          }
        },
        {
          "output_type": "display_data",
          "data": {
            "image/png": "[encoded data removed]",
            "text/plain": [
              "<Figure size 576x576 with 2 Axes>"
            ]
          },
          "metadata": {
            "needs_background": "light"
          }
        }
      ]
    }
  ]
}
